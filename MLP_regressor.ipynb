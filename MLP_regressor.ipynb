{
 "cells": [
  {
   "cell_type": "code",
   "execution_count": 17,
   "metadata": {},
   "outputs": [],
   "source": [
    "import numpy as np\n",
    "import matplotlib.pyplot as plt\n",
    "import pandas as pd\n",
    "from transform_output_format import get_4D_output, get_2D_output\n",
    "from sklearn.base import clone\n",
    "from sklearn.neural_network import MLPRegressor\n",
    "from utils import load_data_input\n",
    "import pickle\n",
    "from sklearn.model_selection import train_test_split"
   ]
  },
  {
   "cell_type": "code",
   "execution_count": 100,
   "metadata": {},
   "outputs": [],
   "source": [
    "def benchmark(sequence, sequence_cls):\n",
    "    last_image = sequence[-1].copy()\n",
    "    preds = []\n",
    "    for i in range(4):\n",
    "        preds.append(last_image*(sequence_cls[4+i]/sequence_cls[3]))\n",
    "    return np.array(preds)[:,15:66,15:66]"
   ]
  },
  {
   "cell_type": "code",
   "execution_count": 101,
   "metadata": {},
   "outputs": [],
   "source": [
    "GHI,CLS,SZA,SAA,dates = load_data_input(\"X_train_copernicus.npz\")\n",
    "y_train_csv = pd.read_csv('y_train_zRvpCeO_nQsYtKN.csv')\n",
    "y_train_4D = get_4D_output(y_train_csv)"
   ]
  },
  {
   "cell_type": "code",
   "execution_count": 130,
   "metadata": {},
   "outputs": [],
   "source": [
    "mlp_preds = pd.read_csv('mlp86.csv')\n",
    "mlp_preds = get_4D_output(mlp_preds)"
   ]
  },
  {
   "cell_type": "code",
   "execution_count": 102,
   "metadata": {},
   "outputs": [],
   "source": [
    "preds_benchmark = []\n",
    "\n",
    "for ghi, cls in zip(GHI, CLS):\n",
    "    preds_benchmark.append(benchmark(ghi, cls))\n",
    "\n",
    "preds_benchmark = np.array(preds_benchmark)"
   ]
  },
  {
   "cell_type": "code",
   "execution_count": 103,
   "metadata": {},
   "outputs": [
    {
     "data": {
      "text/plain": [
       "(1845, 4, 81, 81)"
      ]
     },
     "execution_count": 103,
     "metadata": {},
     "output_type": "execute_result"
    }
   ],
   "source": [
    "GHI.shape"
   ]
  },
  {
   "cell_type": "code",
   "execution_count": 104,
   "metadata": {},
   "outputs": [
    {
     "data": {
      "text/plain": [
       "(1845, 1, 51, 51)"
      ]
     },
     "execution_count": 104,
     "metadata": {},
     "output_type": "execute_result"
    }
   ],
   "source": [
    "SZA[:,0:1,15:66,15:66].shape"
   ]
  },
  {
   "cell_type": "code",
   "execution_count": 174,
   "metadata": {},
   "outputs": [
    {
     "name": "stdout",
     "output_type": "stream",
     "text": [
      "(1845, 12, 51, 51)\n"
     ]
    }
   ],
   "source": [
    "X = np.concatenate([GHI[:,:,15:66,15:66],CLS[:,:,15:66,15:66]], axis=1)\n",
    "print(X.shape)\n",
    "X_train, X_test, y_train, y_test = train_test_split(X, y_train_4D, test_size=0.1, random_state=69)\n",
    "# X_train, X_val, y_train, y_val = train_test_split(X_train, y_train, test_size=0.1, random_state=52)\n",
    "\n",
    "def prepare_data(sequence):\n",
    "    \"\"\"_summary_\n",
    "\n",
    "    Args:\n",
    "        sequence (array(nb_examples,nb_img,81,81)): _description_\n",
    "    \"\"\"\n",
    "    nb_samples, nb_img, size1, size2 = sequence.shape\n",
    "    seq_swap = sequence.swapaxes(1,2).swapaxes(2,3)\n",
    "    return seq_swap.reshape((nb_samples*size1*size2,nb_img))\n"
   ]
  },
  {
   "cell_type": "code",
   "execution_count": 175,
   "metadata": {},
   "outputs": [
    {
     "data": {
      "text/plain": [
       "(4317660, 4)"
      ]
     },
     "execution_count": 175,
     "metadata": {},
     "output_type": "execute_result"
    }
   ],
   "source": [
    "X_train_reshape = prepare_data(X_train)\n",
    "y_train_reshape = prepare_data(y_train)\n",
    "y_train_reshape.shape"
   ]
  },
  {
   "cell_type": "code",
   "execution_count": 176,
   "metadata": {},
   "outputs": [],
   "source": [
    "X_test_reshape = prepare_data(X_test)\n",
    "y_test_reshape = prepare_data(y_test)"
   ]
  },
  {
   "cell_type": "code",
   "execution_count": 127,
   "metadata": {},
   "outputs": [],
   "source": [
    "X_val_reshape = prepare_data(X_val)\n",
    "y_val_reshape = prepare_data(y_val)"
   ]
  },
  {
   "cell_type": "code",
   "execution_count": 186,
   "metadata": {},
   "outputs": [
    {
     "name": "stdout",
     "output_type": "stream",
     "text": [
      "Iteration 1, loss = 1160.10398388\n",
      "Iteration 2, loss = 726.56125414\n",
      "Iteration 3, loss = 723.58540087\n"
     ]
    },
    {
     "name": "stderr",
     "output_type": "stream",
     "text": [
      "/opt/conda/lib/python3.7/site-packages/sklearn/neural_network/_multilayer_perceptron.py:699: UserWarning: Training interrupted by user.\n",
      "  warnings.warn(\"Training interrupted by user.\")\n"
     ]
    },
    {
     "data": {
      "text/plain": [
       "MLPRegressor(hidden_layer_sizes=(4, 64, 4), learning_rate='invscaling',\n",
       "             verbose=True)"
      ]
     },
     "execution_count": 186,
     "metadata": {},
     "output_type": "execute_result"
    }
   ],
   "source": [
    "model= MLPRegressor(hidden_layer_sizes=(4,64,4),activation=\"relu\", solver='adam', verbose=True, n_iter_no_change=10, learning_rate=\"invscaling\", max_iter=200,)\n",
    "model.fit(X_train_reshape, y_train_reshape)"
   ]
  },
  {
   "cell_type": "code",
   "execution_count": null,
   "metadata": {},
   "outputs": [],
   "source": [
    "predictions = model.predict(prepare_data(X)).reshape(1845,51,51,4).swapaxes(2,3).swapaxes(1,2)"
   ]
  },
  {
   "cell_type": "code",
   "execution_count": 187,
   "metadata": {},
   "outputs": [
    {
     "data": {
      "text/plain": [
       "1643.5158146844178"
      ]
     },
     "execution_count": 187,
     "metadata": {},
     "output_type": "execute_result"
    }
   ],
   "source": [
    "np.mean((model.predict(X_test_reshape)-y_test_reshape)**2)"
   ]
  },
  {
   "cell_type": "code",
   "execution_count": 29,
   "metadata": {},
   "outputs": [
    {
     "ename": "NameError",
     "evalue": "name 'X_val_reshape' is not defined",
     "output_type": "error",
     "traceback": [
      "\u001b[0;31m---------------------------------------------------------------------------\u001b[0m",
      "\u001b[0;31mNameError\u001b[0m                                 Traceback (most recent call last)",
      "\u001b[0;32m/tmp/ipykernel_5535/3311253728.py\u001b[0m in \u001b[0;36m<module>\u001b[0;34m\u001b[0m\n\u001b[0;32m----> 1\u001b[0;31m \u001b[0mnp\u001b[0m\u001b[0;34m.\u001b[0m\u001b[0mmean\u001b[0m\u001b[0;34m(\u001b[0m\u001b[0;34m(\u001b[0m\u001b[0mmodel\u001b[0m\u001b[0;34m.\u001b[0m\u001b[0mpredict\u001b[0m\u001b[0;34m(\u001b[0m\u001b[0mX_val_reshape\u001b[0m\u001b[0;34m)\u001b[0m\u001b[0;34m-\u001b[0m\u001b[0my_val_reshape\u001b[0m\u001b[0;34m)\u001b[0m\u001b[0;34m**\u001b[0m\u001b[0;36m2\u001b[0m\u001b[0;34m)\u001b[0m\u001b[0;34m\u001b[0m\u001b[0;34m\u001b[0m\u001b[0m\n\u001b[0m",
      "\u001b[0;31mNameError\u001b[0m: name 'X_val_reshape' is not defined"
     ]
    }
   ],
   "source": [
    "np.mean((model.predict(X_val_reshape)-y_val_reshape)**2)\n"
   ]
  },
  {
   "cell_type": "code",
   "execution_count": 173,
   "metadata": {},
   "outputs": [],
   "source": [
    "GHI_t,CLS_t,SZA_t,SAA_t,dates_t = load_data_input(\"X_test_copernicus.npz\")"
   ]
  },
  {
   "cell_type": "code",
   "execution_count": 85,
   "metadata": {},
   "outputs": [],
   "source": [
    "preds_benchmark = []\n",
    "\n",
    "for ghi, cls in zip(GHI_t, CLS_t):\n",
    "    preds_benchmark.append(benchmark(ghi, cls))\n",
    "\n",
    "preds_benchmark = np.array(preds_benchmark)"
   ]
  },
  {
   "cell_type": "code",
   "execution_count": 87,
   "metadata": {},
   "outputs": [],
   "source": [
    "X = np.concatenate([GHI_t[:,:,15:66,15:66],CLS_t[:,:,15:66,15:66], preds_benchmark], axis=1)\n",
    "X = prepare_data(X)\n"
   ]
  },
  {
   "cell_type": "code",
   "execution_count": 90,
   "metadata": {},
   "outputs": [],
   "source": [
    "y_sub = model.predict(X)"
   ]
  },
  {
   "cell_type": "code",
   "execution_count": 91,
   "metadata": {},
   "outputs": [
    {
     "data": {
      "text/plain": [
       "(4788441, 4)"
      ]
     },
     "execution_count": 91,
     "metadata": {},
     "output_type": "execute_result"
    }
   ],
   "source": [
    "y_sub.shape"
   ]
  },
  {
   "cell_type": "code",
   "execution_count": 92,
   "metadata": {},
   "outputs": [],
   "source": [
    "y_preds = y_sub.reshape(1841,51,51,4)\n",
    "y_preds = y_preds.swapaxes(2,3).swapaxes(1,2)"
   ]
  },
  {
   "cell_type": "code",
   "execution_count": 93,
   "metadata": {},
   "outputs": [
    {
     "data": {
      "text/plain": [
       "(1841, 4, 51, 51)"
      ]
     },
     "execution_count": 93,
     "metadata": {},
     "output_type": "execute_result"
    }
   ],
   "source": [
    "y_preds.shape"
   ]
  },
  {
   "cell_type": "code",
   "execution_count": 94,
   "metadata": {},
   "outputs": [],
   "source": [
    "y_preds_2D = get_2D_output(y_preds)\n",
    "y_preds_2D.to_csv('mlp86.csv', index=False)"
   ]
  },
  {
   "cell_type": "code",
   "execution_count": null,
   "metadata": {},
   "outputs": [],
   "source": []
  }
 ],
 "metadata": {
  "interpreter": {
   "hash": "d4d1e4263499bec80672ea0156c357c1ee493ec2b1c70f0acce89fc37c4a6abe"
  },
  "kernelspec": {
   "display_name": "Python 3.7.12 ('base')",
   "language": "python",
   "name": "python3"
  },
  "language_info": {
   "codemirror_mode": {
    "name": "ipython",
    "version": 3
   },
   "file_extension": ".py",
   "mimetype": "text/x-python",
   "name": "python",
   "nbconvert_exporter": "python",
   "pygments_lexer": "ipython3",
   "version": "3.7.12"
  },
  "orig_nbformat": 4
 },
 "nbformat": 4,
 "nbformat_minor": 2
}
