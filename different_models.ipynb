{
 "cells": [
  {
   "cell_type": "code",
   "execution_count": 1,
   "metadata": {},
   "outputs": [],
   "source": [
    "import numpy as np\n",
    "import matplotlib.pyplot as plt\n",
    "import pandas as pd\n",
    "from transform_output_format import get_4D_output, get_2D_output\n",
    "from sklearn.base import clone\n",
    "from sklearn.linear_model import LinearRegression\n",
    "from sklearn.linear_model import Lasso\n",
    "from sklearn.linear_model import Ridge\n",
    "from sklearn.linear_model import ElasticNet\n",
    "from sklearn.linear_model import HuberRegressor\n",
    "from sklearn.linear_model import LassoLars\n",
    "from sklearn.linear_model import PassiveAggressiveRegressor\n",
    "from sklearn.linear_model import SGDRegressor\n",
    "from utils import load_data_input\n",
    "import pickle\n",
    "from sklearn.model_selection import train_test_split"
   ]
  },
  {
   "cell_type": "code",
   "execution_count": 2,
   "metadata": {},
   "outputs": [],
   "source": [
    "GHI,CLS,SZA,SAA,dates = load_data_input(\"X_train_copernicus.npz\")\n",
    "y_train_csv = pd.read_csv('y_train_zRvpCeO_nQsYtKN.csv')\n",
    "y_train_4D = get_4D_output(y_train_csv)"
   ]
  },
  {
   "cell_type": "code",
   "execution_count": 3,
   "metadata": {},
   "outputs": [],
   "source": [
    "\n",
    "X = np.concatenate([GHI,CLS,SZA,SAA], axis=1)\n",
    "X_train, X_test, y_train, y_test = train_test_split(X, y_train_4D, test_size=0.33, random_state=42)\n",
    "\n",
    "def prepare_data(sequence):\n",
    "    \"\"\"_summary_\n",
    "\n",
    "    Args:\n",
    "        sequence (array(nb_examples,nb_img,81,81)): _description_\n",
    "    \"\"\"\n",
    "    nb_samples, nb_img, size1, size2 = sequence.shape\n",
    "    seq_swap = sequence.swapaxes(1,2).swapaxes(2,3)\n",
    "    return seq_swap.reshape((nb_samples*size1*size2,nb_img))\n"
   ]
  },
  {
   "cell_type": "code",
   "execution_count": 4,
   "metadata": {},
   "outputs": [
    {
     "data": {
      "text/plain": [
       "(1236, 28, 81, 81)"
      ]
     },
     "execution_count": 4,
     "metadata": {},
     "output_type": "execute_result"
    }
   ],
   "source": [
    "X_train.shape"
   ]
  },
  {
   "cell_type": "code",
   "execution_count": 30,
   "metadata": {},
   "outputs": [
    {
     "data": {
      "text/plain": [
       "(3214836, 4)"
      ]
     },
     "execution_count": 30,
     "metadata": {},
     "output_type": "execute_result"
    }
   ],
   "source": [
    "model= ElasticNet(tol=1e-2, l1_ratio=0.5)\n",
    "X_train_reshape = prepare_data(X_train[:,:,15:66,15:66])\n",
    "y_train_reshape = prepare_data(y_train[:])\n",
    "y_train_reshape.shape"
   ]
  },
  {
   "cell_type": "code",
   "execution_count": 31,
   "metadata": {},
   "outputs": [
    {
     "name": "stderr",
     "output_type": "stream",
     "text": [
      "/opt/conda/lib/python3.7/site-packages/sklearn/linear_model/_coordinate_descent.py:648: ConvergenceWarning: Objective did not converge. You might want to increase the number of iterations, check the scale of the features or consider increasing regularisation. Duality gap: 3.189e+09, tolerance: 2.174e+09\n",
      "  coef_, l1_reg, l2_reg, X, y, max_iter, tol, rng, random, positive\n",
      "/opt/conda/lib/python3.7/site-packages/sklearn/linear_model/_coordinate_descent.py:648: ConvergenceWarning: Objective did not converge. You might want to increase the number of iterations, check the scale of the features or consider increasing regularisation. Duality gap: 4.923e+09, tolerance: 2.256e+09\n",
      "  coef_, l1_reg, l2_reg, X, y, max_iter, tol, rng, random, positive\n"
     ]
    },
    {
     "data": {
      "text/plain": [
       "ElasticNet(tol=0.01)"
      ]
     },
     "execution_count": 31,
     "metadata": {},
     "output_type": "execute_result"
    }
   ],
   "source": [
    "model.fit(X_train_reshape,y_train_reshape)"
   ]
  },
  {
   "cell_type": "code",
   "execution_count": 34,
   "metadata": {},
   "outputs": [
    {
     "name": "stdout",
     "output_type": "stream",
     "text": [
      "(4, 28)\n",
      "(4,)\n"
     ]
    }
   ],
   "source": [
    "print(model.coef_.shape)\n",
    "print(model.intercept_.shape)"
   ]
  },
  {
   "cell_type": "code",
   "execution_count": 35,
   "metadata": {},
   "outputs": [
    {
     "data": {
      "text/plain": [
       "0.972836658471628"
      ]
     },
     "execution_count": 35,
     "metadata": {},
     "output_type": "execute_result"
    }
   ],
   "source": [
    "X_test_reshape = prepare_data(X_test[:,:,15:66,15:66])\n",
    "y_test_reshape = prepare_data(y_test)\n",
    "model.score(X_test_reshape,y_test_reshape)"
   ]
  },
  {
   "cell_type": "code",
   "execution_count": null,
   "metadata": {},
   "outputs": [],
   "source": [
    "0.9758750168814646"
   ]
  },
  {
   "cell_type": "code",
   "execution_count": 5,
   "metadata": {},
   "outputs": [],
   "source": [
    "# %%\n",
    "filename = 'linearreg_model.sav'\n",
    "pickle.dump(model, open(filename, 'wb'))\n",
    "# %%\n",
    "loaded_model = pickle.load(open(filename, 'rb'))\n",
    "GHI_test,CLS_test,SZA_test,SAA_test,dates_test = load_data_input(\"X_test_copernicus.npz\")"
   ]
  },
  {
   "cell_type": "code",
   "execution_count": 8,
   "metadata": {},
   "outputs": [],
   "source": [
    "GHI_test_r = prepare_data(GHI_test[:,:,15:66,15:66])\n",
    "CLS_test_r = prepare_data(CLS_test[:,:,15:66,15:66])\n",
    "X_test = np.concatenate([GHI_test_r, CLS_test_r], axis=1)\n",
    "# %%\n",
    "y_predict = model.predict(X_test)\n",
    "y_preds = y_predict.reshape(1841,4,51,51)"
   ]
  },
  {
   "cell_type": "code",
   "execution_count": 36,
   "metadata": {},
   "outputs": [
    {
     "name": "stdout",
     "output_type": "stream",
     "text": [
      "Defined 6 models\n"
     ]
    }
   ],
   "source": [
    "def get_models(models=dict()):\n",
    "\t# linear models\n",
    "\tmodels['lr'] = LinearRegression()\n",
    "\tmodels['sgd'] = SGDRegressor(max_iter=1000, tol=1e-3)\n",
    "\tmodels['en'] = ElasticNet()\n",
    "\tmodels['huber'] = HuberRegressor()\n",
    "\tmodels['llars'] = LassoLars()\n",
    "\tmodels['pa'] = PassiveAggressiveRegressor(max_iter=1000, tol=1e-3)\n",
    "\tprint('Defined %d models' % len(models))\n",
    "\treturn models\n",
    " \n",
    "# %%\n",
    "models = get_models()\n",
    "# %%\n",
    "# fit a single model\n",
    "def fit_model(model, X, y):\n",
    "\t# clone the model configuration\n",
    "\tlocal_model = clone(model)\n",
    "\t# fit the model\n",
    "\tlocal_model.fit(X, y)\n",
    "\treturn local_model\n",
    " \n",
    "# fit one model for each variable and each forecast lead time [var][time][model]\n",
    "def fit_models(model, train):\n",
    "\t# prepare structure for saving models\n",
    "\tmodels = [[list() for _ in range(train.shape[1])] for _ in range(train.shape[0])]\n",
    "\t# enumerate vars\n",
    "\tfor i in range(train.shape[0]):\n",
    "\t\t# enumerate lead times\n",
    "\t\tfor j in range(train.shape[1]):\n",
    "\t\t\t# get data\n",
    "\t\t\tdata = train[i, j]\n",
    "\t\t\tX, y = data[:, :-1], data[:, -1]\n",
    "\t\t\t# fit model\n",
    "\t\t\tlocal_model = fit_model(model, X, y)\n",
    "\t\t\tmodels[i][j].append(local_model)\n",
    "\treturn models"
   ]
  },
  {
   "cell_type": "code",
   "execution_count": 39,
   "metadata": {},
   "outputs": [],
   "source": [
    "def train_models(models_dict:dict, X_train, y_train, X_test, y_test):\n",
    "    for model_name, model in models_dict.items():\n",
    "        fitted_model = fit_model(model,X_train, y_train[:,3])\n",
    "        print(f'{model_name} : {fitted_model.score(X_test,y_test[:,3])}')"
   ]
  },
  {
   "cell_type": "code",
   "execution_count": 40,
   "metadata": {},
   "outputs": [
    {
     "name": "stdout",
     "output_type": "stream",
     "text": [
      "lr : 0.9543696372527282\n"
     ]
    }
   ],
   "source": [
    "train_models(models,X_train_reshape,y_train_reshape, X_test_reshape, y_test_reshape)"
   ]
  },
  {
   "cell_type": "code",
   "execution_count": null,
   "metadata": {},
   "outputs": [],
   "source": []
  }
 ],
 "metadata": {
  "interpreter": {
   "hash": "767d51c1340bd893661ea55ea3124f6de3c7a262a8b4abca0554b478b1e2ff90"
  },
  "kernelspec": {
   "display_name": "Python 3.8.10 64-bit",
   "language": "python",
   "name": "python3"
  },
  "language_info": {
   "codemirror_mode": {
    "name": "ipython",
    "version": 3
   },
   "file_extension": ".py",
   "mimetype": "text/x-python",
   "name": "python",
   "nbconvert_exporter": "python",
   "pygments_lexer": "ipython3",
   "version": "3.7.12"
  },
  "orig_nbformat": 4
 },
 "nbformat": 4,
 "nbformat_minor": 2
}
