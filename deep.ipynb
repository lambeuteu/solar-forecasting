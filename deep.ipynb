{
 "cells": [
  {
   "cell_type": "code",
   "execution_count": 22,
   "metadata": {},
   "outputs": [],
   "source": [
    "import numpy as np\n",
    "import matplotlib.pyplot as plt\n",
    "import pandas as pd\n",
    "from transform_output_format import get_4D_output, get_2D_output\n",
    "from utils import load_data_input\n",
    "import pickle\n",
    "from sklearn.model_selection import train_test_split"
   ]
  },
  {
   "cell_type": "code",
   "execution_count": 23,
   "metadata": {},
   "outputs": [],
   "source": [
    "GHI,CLS,SZA,SAA,dates = load_data_input(\"X_train_copernicus.npz\")\n",
    "y_train_csv = pd.read_csv('y_train_zRvpCeO_nQsYtKN.csv')\n",
    "y_train_4D = get_4D_output(y_train_csv)"
   ]
  },
  {
   "cell_type": "code",
   "execution_count": 24,
   "metadata": {},
   "outputs": [],
   "source": [
    "def rolling_window(a, shape):  # rolling window for 2D array\n",
    "    s = (a.shape[0] - shape[0] + 1,) + (a.shape[1] - shape[1] + 1,) + shape\n",
    "    strides = a.strides + a.strides\n",
    "    return np.lib.stride_tricks.as_strided(a, shape=s, strides=strides)"
   ]
  },
  {
   "cell_type": "code",
   "execution_count": 25,
   "metadata": {},
   "outputs": [],
   "source": [
    "n_window = 13\n",
    "aa = rolling_window(GHI[0,0,15-n_window//2:66+n_window//2,15-n_window//2:66+n_window//2], (n_window,n_window))"
   ]
  },
  {
   "cell_type": "code",
   "execution_count": 27,
   "metadata": {},
   "outputs": [
    {
     "data": {
      "image/png": "[encoded data removed]",
      "text/plain": [
       "<Figure size 432x288 with 2 Axes>"
      ]
     },
     "metadata": {
      "needs_background": "light"
     },
     "output_type": "display_data"
    }
   ],
   "source": [
    "fig, ax = plt.subplots(1,2)\n",
    "ax[0].imshow(aa[0,1])\n",
    "ax[1].imshow(GHI[0,0,15-n_window//2:15+n_window//2+1, 16-n_window//2:16+n_window//2+1])\n",
    "plt.show()"
   ]
  },
  {
   "cell_type": "code",
   "execution_count": 28,
   "metadata": {},
   "outputs": [
    {
     "data": {
      "text/plain": [
       "(51, 51, 13, 13)"
      ]
     },
     "execution_count": 28,
     "metadata": {},
     "output_type": "execute_result"
    }
   ],
   "source": [
    "aa.shape"
   ]
  },
  {
   "cell_type": "code",
   "execution_count": 70,
   "metadata": {},
   "outputs": [],
   "source": [
    "def rolling_window_sequence(seq,start=0, end=51, n_window=13):\n",
    "    return np.stack([rolling_window(img[start-n_window//2:end+n_window//2,start-n_window//2:end+n_window//2], (n_window,n_window)) for img in seq])"
   ]
  },
  {
   "cell_type": "code",
   "execution_count": 101,
   "metadata": {},
   "outputs": [
    {
     "name": "stdout",
     "output_type": "stream",
     "text": [
      "(10, 4, 51, 51, 13, 13)\n",
      "(26010, 4)\n"
     ]
    }
   ],
   "source": [
    "X = np.stack([rolling_window_sequence(seq,15,66,13) for seq in GHI[:10]])\n",
    "y_train_net = y_train_4D[:10].swapaxes(1,2).swapaxes(2,3).reshape(10*51*51,4)\n",
    "y_train_net.shape\n",
    "print(X.shape)\n",
    "print(y_train_net.shape)"
   ]
  },
  {
   "cell_type": "code",
   "execution_count": 32,
   "metadata": {},
   "outputs": [
    {
     "data": {
      "text/plain": [
       "(4, 13, 13)"
      ]
     },
     "execution_count": 32,
     "metadata": {},
     "output_type": "execute_result"
    }
   ],
   "source": [
    "X[0,:,0,0,:,:].shape"
   ]
  },
  {
   "cell_type": "code",
   "execution_count": 85,
   "metadata": {},
   "outputs": [
    {
     "name": "stdout",
     "output_type": "stream",
     "text": [
      "Sequential(\n",
      "  (0): Conv2d(4, 10, kernel_size=(3, 3), stride=(1, 1), padding=same)\n",
      "  (1): MaxPool2d(kernel_size=2, stride=2, padding=0, dilation=1, ceil_mode=False)\n",
      "  (2): ReLU()\n",
      "  (3): Dropout2d(p=0.5, inplace=False)\n",
      "  (4): Conv2d(10, 20, kernel_size=(3, 3), stride=(1, 1), padding=same)\n",
      "  (5): MaxPool2d(kernel_size=2, stride=2, padding=0, dilation=1, ceil_mode=False)\n",
      "  (6): ReLU()\n",
      "  (7): Conv2d(20, 10, kernel_size=(5, 5), stride=(1, 1), padding=same)\n",
      "  (8): MaxPool2d(kernel_size=2, stride=2, padding=0, dilation=1, ceil_mode=False)\n",
      "  (9): ReLU()\n",
      "  (10): Conv2d(10, 4, kernel_size=(5, 5), stride=(1, 1), padding=same)\n",
      ")\n"
     ]
    }
   ],
   "source": [
    "import torch.nn as nn\n",
    "import torch\n",
    "\n",
    "# flatten the tensor into \n",
    "class Flatten(nn.Module):\n",
    "   def forward(self, input):\n",
    "       return input.view(input.size(0), -1)\n",
    "\n",
    "#sequential based model\n",
    "seq_model = nn.Sequential(\n",
    "           nn.Conv2d(4, 10, kernel_size=3, padding='same'),\n",
    "           nn.MaxPool2d(2),\n",
    "           nn.ReLU(),\n",
    "           nn.Dropout2d(),\n",
    "           nn.Conv2d(10, 20, kernel_size=3,padding='same'),\n",
    "           nn.MaxPool2d(2),\n",
    "           nn.ReLU(),\n",
    "           nn.Conv2d(20, 10, kernel_size=5,padding='same'),\n",
    "           nn.MaxPool2d(2),\n",
    "           nn.ReLU(),\n",
    "           nn.Conv2d(10, 4, kernel_size=5,padding='same'),\n",
    "         )\n",
    "\n",
    "net = seq_model\n",
    "print(net)"
   ]
  },
  {
   "cell_type": "code",
   "execution_count": 86,
   "metadata": {},
   "outputs": [],
   "source": [
    "input_shape = (10, 4, 13, 13)\n",
    "input = torch.randn(input_shape)\n"
   ]
  },
  {
   "cell_type": "code",
   "execution_count": 87,
   "metadata": {},
   "outputs": [
    {
     "data": {
      "text/plain": [
       "torch.Size([10, 4, 13, 13])"
      ]
     },
     "execution_count": 87,
     "metadata": {},
     "output_type": "execute_result"
    }
   ],
   "source": [
    "input.shape"
   ]
  },
  {
   "cell_type": "code",
   "execution_count": 88,
   "metadata": {},
   "outputs": [
    {
     "data": {
      "text/plain": [
       "torch.Size([10, 4, 1, 1])"
      ]
     },
     "execution_count": 88,
     "metadata": {},
     "output_type": "execute_result"
    }
   ],
   "source": [
    "net(input).shape"
   ]
  },
  {
   "cell_type": "code",
   "execution_count": 64,
   "metadata": {},
   "outputs": [],
   "source": [
    "learning_rate = 0.001\n",
    "criterion = torch.nn.MSELoss()    # Softmax is internally computed.\n",
    "optimizer = torch.optim.Adam(params=net.parameters(), lr=learning_rate)"
   ]
  },
  {
   "cell_type": "code",
   "execution_count": 102,
   "metadata": {},
   "outputs": [
    {
     "name": "stdout",
     "output_type": "stream",
     "text": [
      "(26010, 4, 13, 13)\n",
      "(26010, 4, 1, 1)\n"
     ]
    }
   ],
   "source": [
    "X_train = X.swapaxes(1,2).swapaxes(2,3).reshape(10*51*51,4,13,13)\n",
    "y_train_net = y_train_net[:,:,np.newaxis, np.newaxis]\n",
    "print(X_train.shape)\n",
    "print(y_train_net.shape)"
   ]
  },
  {
   "cell_type": "code",
   "execution_count": 106,
   "metadata": {},
   "outputs": [
    {
     "name": "stdout",
     "output_type": "stream",
     "text": [
      "torch.Size([26010, 4, 1, 1])\n"
     ]
    }
   ],
   "source": [
    "X_tensor = torch.Tensor(X_train)\n",
    "y_tensor = torch.Tensor(y_train_net)\n",
    "print(y_tensor.shape)"
   ]
  },
  {
   "cell_type": "code",
   "execution_count": 108,
   "metadata": {},
   "outputs": [
    {
     "data": {
      "text/plain": [
       "torch.Size([10, 4, 13, 13])"
      ]
     },
     "execution_count": 108,
     "metadata": {},
     "output_type": "execute_result"
    }
   ],
   "source": [
    "X_tensor[:10].shape"
   ]
  },
  {
   "cell_type": "code",
   "execution_count": 112,
   "metadata": {},
   "outputs": [
    {
     "name": "stdout",
     "output_type": "stream",
     "text": [
      "Learning Finished!\n"
     ]
    }
   ],
   "source": [
    "training_epochs = 10\n",
    "train_accu = []\n",
    "train_cost = []\n",
    "\n",
    "for epoch in range(training_epochs):\n",
    "    avg_cost = 0\n",
    "\n",
    "    optimizer.zero_grad() # <= initialization of the gradients\n",
    "    \n",
    "    # forward propagation\n",
    "    hypothesis = net(X_tensor[:10])\n",
    "    cost = criterion(hypothesis, y_tensor[:10]) # <= compute the loss function\n",
    "    \n",
    "    # Backward propagation\n",
    "    cost.backward() # <= compute the gradient of the loss/cost function     \n",
    "    optimizer.step() # <= Update the gradients\n",
    "            \n",
    "    # Print some performance to monitor the training\n",
    "print('Learning Finished!')"
   ]
  },
  {
   "cell_type": "code",
   "execution_count": 116,
   "metadata": {},
   "outputs": [
    {
     "data": {
      "text/plain": [
       "Sequential(\n",
       "  (0): Conv2d(4, 10, kernel_size=(3, 3), stride=(1, 1), padding=same)\n",
       "  (1): MaxPool2d(kernel_size=2, stride=2, padding=0, dilation=1, ceil_mode=False)\n",
       "  (2): ReLU()\n",
       "  (3): Dropout2d(p=0.5, inplace=False)\n",
       "  (4): Conv2d(10, 20, kernel_size=(3, 3), stride=(1, 1), padding=same)\n",
       "  (5): MaxPool2d(kernel_size=2, stride=2, padding=0, dilation=1, ceil_mode=False)\n",
       "  (6): ReLU()\n",
       "  (7): Conv2d(20, 10, kernel_size=(5, 5), stride=(1, 1), padding=same)\n",
       "  (8): MaxPool2d(kernel_size=2, stride=2, padding=0, dilation=1, ceil_mode=False)\n",
       "  (9): ReLU()\n",
       "  (10): Conv2d(10, 4, kernel_size=(5, 5), stride=(1, 1), padding=same)\n",
       ")"
      ]
     },
     "execution_count": 116,
     "metadata": {},
     "output_type": "execute_result"
    }
   ],
   "source": [
    "net.eval()"
   ]
  },
  {
   "cell_type": "code",
   "execution_count": 118,
   "metadata": {},
   "outputs": [
    {
     "data": {
      "text/plain": [
       "torch.Size([5, 4, 1, 1])"
      ]
     },
     "execution_count": 118,
     "metadata": {},
     "output_type": "execute_result"
    }
   ],
   "source": [
    "net(X_tensor[15:20]).shape"
   ]
  },
  {
   "cell_type": "code",
   "execution_count": null,
   "metadata": {},
   "outputs": [],
   "source": []
  }
 ],
 "metadata": {
  "interpreter": {
   "hash": "d4d1e4263499bec80672ea0156c357c1ee493ec2b1c70f0acce89fc37c4a6abe"
  },
  "kernelspec": {
   "display_name": "Python 3.7.12 ('base')",
   "language": "python",
   "name": "python3"
  },
  "language_info": {
   "codemirror_mode": {
    "name": "ipython",
    "version": 3
   },
   "file_extension": ".py",
   "mimetype": "text/x-python",
   "name": "python",
   "nbconvert_exporter": "python",
   "pygments_lexer": "ipython3",
   "version": "3.7.12"
  },
  "orig_nbformat": 4
 },
 "nbformat": 4,
 "nbformat_minor": 2
}
